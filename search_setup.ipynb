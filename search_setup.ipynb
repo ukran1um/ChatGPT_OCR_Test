{
 "cells": [
  {
   "cell_type": "code",
   "execution_count": 1,
   "metadata": {},
   "outputs": [
    {
     "data": {
      "text/plain": [
       "'\\nTODO\\n1. Load dataframe\\n2. Load model and vectorize text input\\n3. Load index\\n4. Find a Few Neighbors\\n5. Get Neighbor Data\\n6. Verify neighbor data with the LLM and select best one\\n7. Format output for nice display\\n'"
      ]
     },
     "execution_count": 1,
     "metadata": {},
     "output_type": "execute_result"
    }
   ],
   "source": [
    "\"\"\"\n",
    "TODO\n",
    "1. Load dataframe\n",
    "2. Load model and vectorize text input\n",
    "3. Load index\n",
    "4. Find a Few Neighbors\n",
    "5. Get Neighbor Data\n",
    "6. Verify neighbor data with the LLM and select best one\n",
    "7. Format output for nice display\n",
    "\"\"\""
   ]
  },
  {
   "cell_type": "code",
   "execution_count": 2,
   "metadata": {},
   "outputs": [],
   "source": [
    "import requests\n",
    "import pandas as pd\n",
    "from sentence_transformers import SentenceTransformer\n",
    "# from huggingface_hub import snapshot_download\n",
    "# from transformers import AutoModel\n",
    "import numpy as np"
   ]
  },
  {
   "cell_type": "code",
   "execution_count": 3,
   "metadata": {},
   "outputs": [],
   "source": [
    "INPUT_STRING = \"deck screw\""
   ]
  },
  {
   "cell_type": "code",
   "execution_count": 4,
   "metadata": {},
   "outputs": [],
   "source": [
    "# 1 Load and prep data\n",
    "unspsc_codes_df = pd.read_csv('./data/data-unspsc-codes.csv', encoding='ISO-8859-1')\n",
    "text_inputs = unspsc_codes_df['Commodity Name'].tolist()"
   ]
  },
  {
   "cell_type": "code",
   "execution_count": 5,
   "metadata": {},
   "outputs": [],
   "source": [
    "# 2 load model and vectorize input string\n",
    "model = SentenceTransformer('sentence-transformers/all-MiniLM-L6-v2')\n",
    "string_vector = model.encode([INPUT_STRING])"
   ]
  },
  {
   "cell_type": "code",
   "execution_count": 7,
   "metadata": {},
   "outputs": [
    {
     "ename": "NameError",
     "evalue": "name 'p' is not defined",
     "output_type": "error",
     "traceback": [
      "\u001b[0;31m---------------------------------------------------------------------------\u001b[0m",
      "\u001b[0;31mNameError\u001b[0m                                 Traceback (most recent call last)",
      "Cell \u001b[0;32mIn[7], line 3\u001b[0m\n\u001b[1;32m      1\u001b[0m \u001b[38;5;66;03m# 3 load index\u001b[39;00m\n\u001b[1;32m      2\u001b[0m \u001b[38;5;66;03m# index = AnnLite(string_vector.shape[1], metric='cosine', data_path=\"./data\")\u001b[39;00m\n\u001b[0;32m----> 3\u001b[0m \u001b[43mp\u001b[49m\u001b[38;5;241m.\u001b[39mload_index(\u001b[38;5;124m\"\u001b[39m\u001b[38;5;124m./data/index.bin\u001b[39m\u001b[38;5;124m\"\u001b[39m, max_elements \u001b[38;5;241m=\u001b[39m \u001b[38;5;28mlen\u001b[39m(unspsc_codes_df))\n",
      "\u001b[0;31mNameError\u001b[0m: name 'p' is not defined"
     ]
    }
   ],
   "source": [
    "# 3 load index\n",
    "# index = AnnLite(string_vector.shape[1], metric='cosine', data_path=\"./data\")\n",
    "# Reiniting, loading the index\n",
    "p = hnswlib.Index(space='l2', dim=model.get_sentence_embedding_dimension())  # the space can be changed - keeps the data, alters the distance function.\n",
    "p.load_index(\"./data/index.bin\", max_elements = len(unspsc_codes_df))"
   ]
  },
  {
   "cell_type": "code",
   "execution_count": null,
   "metadata": {},
   "outputs": [],
   "source": [
    "# 4 do ANN search\n",
    "# query = DocumentArray.empty(1)\n",
    "# query.embeddings = string_vector.astype(np.float32)\n",
    "# result = index.search(query)\n",
    "\n",
    "labels, distances = p.knn_query(string_vector, k=5)\n"
   ]
  },
  {
   "cell_type": "code",
   "execution_count": null,
   "metadata": {},
   "outputs": [],
   "source": [
    "labels"
   ]
  },
  {
   "cell_type": "code",
   "execution_count": null,
   "metadata": {},
   "outputs": [],
   "source": [
    "results = []\n",
    "\n",
    "for q in query:\n",
    "    print(f'Query {q.id}')\n",
    "    for k, m in enumerate(q.matches):\n",
    "        results.append(f\"\"\"Segment Name: {m.tags[\"Segment Name\"]}, Family Name: {m.tags[\"Family Name\"]}, \\\n",
    "Class Name: {m.tags[\"Class Name\"]}, Commodity Name: {m.tags[\"Commodity Name\"]}, \"UNSPSC Code: {m.tags[\"Commodity\"]}\"\"\")\n",
    "results"
   ]
  },
  {
   "cell_type": "code",
   "execution_count": null,
   "metadata": {},
   "outputs": [],
   "source": [
    "test= \"\"\"{\n",
    "  \"description\": \"The image contains a technical drawing of a mechanical component identified as a '4.0 Thru Shaft'. It shows multiple views, including a side view, an end view, and a sectional view (SECTION D-D). The drawing is detailed with precise measurements for diameter, length, keyway size, and spline specifics. There are also tolerances indicated for various features and notes for finishing like 'break all edges' and '100 µin RMS', which are surface finish specifications. The spline bore details and a 'floating fastener formula' are included, suggesting this part is designed for rotational applications within machinery, possibly for power transmission.\",\n",
    "  \"part_name\": \"4.0 Thru Shaft\"\n",
    "}\"\"\""
   ]
  },
  {
   "cell_type": "code",
   "execution_count": null,
   "metadata": {},
   "outputs": [],
   "source": []
  },
  {
   "cell_type": "code",
   "execution_count": null,
   "metadata": {},
   "outputs": [],
   "source": [
    "import json"
   ]
  },
  {
   "cell_type": "code",
   "execution_count": null,
   "metadata": {},
   "outputs": [],
   "source": []
  },
  {
   "cell_type": "code",
   "execution_count": null,
   "metadata": {},
   "outputs": [],
   "source": []
  }
 ],
 "metadata": {
  "kernelspec": {
   "display_name": "ocr",
   "language": "python",
   "name": "python3"
  },
  "language_info": {
   "codemirror_mode": {
    "name": "ipython",
    "version": 3
   },
   "file_extension": ".py",
   "mimetype": "text/x-python",
   "name": "python",
   "nbconvert_exporter": "python",
   "pygments_lexer": "ipython3",
   "version": "3.8.18"
  }
 },
 "nbformat": 4,
 "nbformat_minor": 2
}
