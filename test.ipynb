{
 "cells": [
  {
   "cell_type": "code",
   "execution_count": 1,
   "metadata": {},
   "outputs": [],
   "source": [
    "\n",
    "import pandas as pd\n",
    "import numpy as np\n",
    "import os\n",
    "import base64\n",
    "import requests\n",
    "from PIL import Image\n",
    "from utils import calculate_image_token_cost\n",
    "\n",
    "\n",
    "detail = \"high\"\n",
    "\n",
    "api_key = os.environ['OPENAI_API_KEY']\n"
   ]
  },
  {
   "cell_type": "code",
   "execution_count": 2,
   "metadata": {},
   "outputs": [],
   "source": [
    "catalog = pd.read_csv(\"./data/data-unspsc-codes.csv\", encoding='ISO-8859-1')\n"
   ]
  },
  {
   "cell_type": "code",
   "execution_count": 3,
   "metadata": {},
   "outputs": [
    {
     "data": {
      "text/html": [
       "<div>\n",
       "<style scoped>\n",
       "    .dataframe tbody tr th:only-of-type {\n",
       "        vertical-align: middle;\n",
       "    }\n",
       "\n",
       "    .dataframe tbody tr th {\n",
       "        vertical-align: top;\n",
       "    }\n",
       "\n",
       "    .dataframe thead th {\n",
       "        text-align: right;\n",
       "    }\n",
       "</style>\n",
       "<table border=\"1\" class=\"dataframe\">\n",
       "  <thead>\n",
       "    <tr style=\"text-align: right;\">\n",
       "      <th></th>\n",
       "      <th>Segment</th>\n",
       "      <th>Segment Name</th>\n",
       "      <th>Family</th>\n",
       "      <th>Family Name</th>\n",
       "      <th>Class</th>\n",
       "      <th>Class Name</th>\n",
       "      <th>Commodity</th>\n",
       "      <th>Commodity Name</th>\n",
       "    </tr>\n",
       "  </thead>\n",
       "  <tbody>\n",
       "    <tr>\n",
       "      <th>0</th>\n",
       "      <td>10000000</td>\n",
       "      <td>Live Plant and Animal Material and Accessories...</td>\n",
       "      <td>10100000</td>\n",
       "      <td>Live animals</td>\n",
       "      <td>10101500</td>\n",
       "      <td>Livestock</td>\n",
       "      <td>10101501</td>\n",
       "      <td>Cats</td>\n",
       "    </tr>\n",
       "    <tr>\n",
       "      <th>1</th>\n",
       "      <td>10000000</td>\n",
       "      <td>Live Plant and Animal Material and Accessories...</td>\n",
       "      <td>10100000</td>\n",
       "      <td>Live animals</td>\n",
       "      <td>10101500</td>\n",
       "      <td>Livestock</td>\n",
       "      <td>10101502</td>\n",
       "      <td>Dogs</td>\n",
       "    </tr>\n",
       "    <tr>\n",
       "      <th>2</th>\n",
       "      <td>10000000</td>\n",
       "      <td>Live Plant and Animal Material and Accessories...</td>\n",
       "      <td>10100000</td>\n",
       "      <td>Live animals</td>\n",
       "      <td>10101500</td>\n",
       "      <td>Livestock</td>\n",
       "      <td>10101504</td>\n",
       "      <td>Mink</td>\n",
       "    </tr>\n",
       "    <tr>\n",
       "      <th>3</th>\n",
       "      <td>10000000</td>\n",
       "      <td>Live Plant and Animal Material and Accessories...</td>\n",
       "      <td>10100000</td>\n",
       "      <td>Live animals</td>\n",
       "      <td>10101500</td>\n",
       "      <td>Livestock</td>\n",
       "      <td>10101505</td>\n",
       "      <td>Rats</td>\n",
       "    </tr>\n",
       "    <tr>\n",
       "      <th>4</th>\n",
       "      <td>10000000</td>\n",
       "      <td>Live Plant and Animal Material and Accessories...</td>\n",
       "      <td>10100000</td>\n",
       "      <td>Live animals</td>\n",
       "      <td>10101500</td>\n",
       "      <td>Livestock</td>\n",
       "      <td>10101506</td>\n",
       "      <td>Horses</td>\n",
       "    </tr>\n",
       "  </tbody>\n",
       "</table>\n",
       "</div>"
      ],
      "text/plain": [
       "    Segment                                       Segment Name    Family  \\\n",
       "0  10000000  Live Plant and Animal Material and Accessories...  10100000   \n",
       "1  10000000  Live Plant and Animal Material and Accessories...  10100000   \n",
       "2  10000000  Live Plant and Animal Material and Accessories...  10100000   \n",
       "3  10000000  Live Plant and Animal Material and Accessories...  10100000   \n",
       "4  10000000  Live Plant and Animal Material and Accessories...  10100000   \n",
       "\n",
       "    Family Name     Class Class Name  Commodity Commodity Name  \n",
       "0  Live animals  10101500  Livestock   10101501           Cats  \n",
       "1  Live animals  10101500  Livestock   10101502           Dogs  \n",
       "2  Live animals  10101500  Livestock   10101504           Mink  \n",
       "3  Live animals  10101500  Livestock   10101505           Rats  \n",
       "4  Live animals  10101500  Livestock   10101506         Horses  "
      ]
     },
     "execution_count": 3,
     "metadata": {},
     "output_type": "execute_result"
    }
   ],
   "source": [
    "catalog.head()"
   ]
  },
  {
   "cell_type": "code",
   "execution_count": 4,
   "metadata": {},
   "outputs": [
    {
     "name": "stdout",
     "output_type": "stream",
     "text": [
      "Live Plant and Animal Material and Accessories and Supplies\n",
      "Mineral and Textile and Inedible Plant and Animal Materials\n",
      "Chemicals including Bio Chemicals and Gas Materials\n",
      "Resin and Rosin and Rubber and Foam and Film and Elastomeric Materials\n",
      "Paper Materials and Products\n",
      "Fuels and Fuel Additives and Lubricants and Anti corrosive Materials\n",
      "Mining and Well Drilling Machinery and Accessories\n",
      "Farming and Fishing and Forestry and Wildlife Machinery and Accessories\n",
      "Building and Construction Machinery and Accessories\n",
      "Industrial Manufacturing and Processing Machinery and Accessories\n",
      "Material Handling and Conditioning and Storage Machinery and their Accessories and Supplies\n",
      "Commercial and Military and Private Vehicles and their Accessories and Components\n",
      "Power Generation and Distribution Machinery and Accessories\n",
      "Tools and General Machinery\n",
      "Structures and Building and Construction and Manufacturing Components and Supplies\n",
      "Manufacturing Components and Supplies\n",
      "Electronic Components and Supplies\n",
      "Electrical Systems and Lighting and Components and Accessories and Supplies\n",
      "Distribution and Conditioning Systems and Equipment and Components\n",
      "Laboratory and Measuring and Observing and Testing Equipment\n",
      "Medical Equipment and Accessories and Supplies\n",
      "Information Technology Broadcasting and Telecommunications\n",
      "Office Equipment and Accessories and Supplies\n",
      "Printing and Photographic and Audio and Visual Equipment and Supplies\n",
      "Defense and Law Enforcement and Security and Safety Equipment and Supplies\n",
      "Cleaning Equipment and Supplies\n",
      "Service Industry Machinery and Equipment and Supplies\n",
      "Sports and Recreational Equipment and Supplies and Accessories\n",
      "Food Beverage and Tobacco Products\n",
      "Drugs and Pharmaceutical Products\n",
      "Domestic Appliances and Supplies and Consumer Electronic Products\n",
      "Apparel and Luggage and Personal Care Products\n",
      "Timepieces and Jewelry and Gemstone Products\n",
      "Published Products\n",
      "Furniture and Furnishings\n",
      "Musical Instruments and Games and Toys and Arts and Crafts and Educational Equipment and Materials and Accessories and Supplies\n",
      "Financial Instruments, Products, Contracts and Agreements\n",
      "Farming and Fishing and Forestry and Wildlife Contracting Services\n",
      "Mining and oil and gas services\n",
      "Building and Facility Construction and Maintenance Services\n",
      "Industrial Production and Manufacturing Services\n",
      "Industrial Cleaning Services\n",
      "Environmental Services\n",
      "Transportation and Storage and Mail Services\n",
      "Management and Business Professionals and Administrative Services\n",
      "Engineering and Research and Technology Based Services\n",
      "Editorial and Design and Graphic and Fine Art Services\n",
      "Public Utilities and Public Sector Related Services\n",
      "Financial and Insurance Services\n",
      "Healthcare Services\n",
      "Education and Training Services\n",
      "Travel and Food and Lodging and Entertainment Services\n",
      "Personal and Domestic Services\n",
      "National Defense and Public Order and Security and Safety Services\n",
      "Politics and Civic Affairs Services\n",
      "Organizations and Clubs\n",
      "Land and Buildings and Structures and Thoroughfares\n"
     ]
    }
   ],
   "source": [
    "def get_categories_as_string(df, col_name):\n",
    "    string = '\\n'.join(map(str, df[col_name].unique()))\n",
    "    print(string)\n",
    "    return string\n",
    "\n",
    "seg_choices = get_categories_as_string(catalog, 'Segment Name')"
   ]
  },
  {
   "cell_type": "code",
   "execution_count": 5,
   "metadata": {},
   "outputs": [],
   "source": [
    "import transformers"
   ]
  },
  {
   "cell_type": "code",
   "execution_count": 27,
   "metadata": {},
   "outputs": [
    {
     "data": {
      "application/vnd.jupyter.widget-view+json": {
       "model_id": "160b85150d1e43aeb99474f868a76705",
       "version_major": 2,
       "version_minor": 0
      },
      "text/plain": [
       "pytorch_model.bin:   0%|          | 0.00/90.9M [00:00<?, ?B/s]"
      ]
     },
     "metadata": {},
     "output_type": "display_data"
    }
   ],
   "source": [
    "from huggingface_hub import hf_hub_download\n",
    "from sentence_transformers import SentenceTransformer\n",
    "import torch\n",
    "\n",
    "# First, download the model files\n",
    "REPO_ID = \"sentence-transformers/all-MiniLM-L6-v2\"\n",
    "model_files = hf_hub_download(repo_id=REPO_ID, filename=\"pytorch_model.bin\")\n"
   ]
  },
  {
   "cell_type": "code",
   "execution_count": 28,
   "metadata": {},
   "outputs": [
    {
     "name": "stderr",
     "output_type": "stream",
     "text": [
      "No sentence-transformers model found with name /Users/ukran1um/.cache/huggingface/hub/models--sentence-transformers--all-MiniLM-L6-v2/snapshots/7dbbc90392e2f80f3d3c277d6e90027e55de9125/pytorch_model.bin. Creating a new one with MEAN pooling.\n"
     ]
    },
    {
     "ename": "OSError",
     "evalue": "It looks like the config file at '/Users/ukran1um/.cache/huggingface/hub/models--sentence-transformers--all-MiniLM-L6-v2/snapshots/7dbbc90392e2f80f3d3c277d6e90027e55de9125/pytorch_model.bin' is not a valid JSON file.",
     "output_type": "error",
     "traceback": [
      "\u001b[0;31m---------------------------------------------------------------------------\u001b[0m",
      "\u001b[0;31mUnicodeDecodeError\u001b[0m                        Traceback (most recent call last)",
      "File \u001b[0;32m~/miniconda3/envs/ocr/lib/python3.8/site-packages/transformers/configuration_utils.py:707\u001b[0m, in \u001b[0;36mPretrainedConfig._get_config_dict\u001b[0;34m(cls, pretrained_model_name_or_path, **kwargs)\u001b[0m\n\u001b[1;32m    705\u001b[0m \u001b[39mtry\u001b[39;00m:\n\u001b[1;32m    706\u001b[0m     \u001b[39m# Load config dict\u001b[39;00m\n\u001b[0;32m--> 707\u001b[0m     config_dict \u001b[39m=\u001b[39m \u001b[39mcls\u001b[39;49m\u001b[39m.\u001b[39;49m_dict_from_json_file(resolved_config_file)\n\u001b[1;32m    708\u001b[0m     config_dict[\u001b[39m\"\u001b[39m\u001b[39m_commit_hash\u001b[39m\u001b[39m\"\u001b[39m] \u001b[39m=\u001b[39m commit_hash\n",
      "File \u001b[0;32m~/miniconda3/envs/ocr/lib/python3.8/site-packages/transformers/configuration_utils.py:802\u001b[0m, in \u001b[0;36mPretrainedConfig._dict_from_json_file\u001b[0;34m(cls, json_file)\u001b[0m\n\u001b[1;32m    801\u001b[0m \u001b[39mwith\u001b[39;00m \u001b[39mopen\u001b[39m(json_file, \u001b[39m\"\u001b[39m\u001b[39mr\u001b[39m\u001b[39m\"\u001b[39m, encoding\u001b[39m=\u001b[39m\u001b[39m\"\u001b[39m\u001b[39mutf-8\u001b[39m\u001b[39m\"\u001b[39m) \u001b[39mas\u001b[39;00m reader:\n\u001b[0;32m--> 802\u001b[0m     text \u001b[39m=\u001b[39m reader\u001b[39m.\u001b[39;49mread()\n\u001b[1;32m    803\u001b[0m \u001b[39mreturn\u001b[39;00m json\u001b[39m.\u001b[39mloads(text)\n",
      "File \u001b[0;32m~/miniconda3/envs/ocr/lib/python3.8/codecs.py:322\u001b[0m, in \u001b[0;36mBufferedIncrementalDecoder.decode\u001b[0;34m(self, input, final)\u001b[0m\n\u001b[1;32m    321\u001b[0m data \u001b[39m=\u001b[39m \u001b[39mself\u001b[39m\u001b[39m.\u001b[39mbuffer \u001b[39m+\u001b[39m \u001b[39minput\u001b[39m\n\u001b[0;32m--> 322\u001b[0m (result, consumed) \u001b[39m=\u001b[39m \u001b[39mself\u001b[39;49m\u001b[39m.\u001b[39;49m_buffer_decode(data, \u001b[39mself\u001b[39;49m\u001b[39m.\u001b[39;49merrors, final)\n\u001b[1;32m    323\u001b[0m \u001b[39m# keep undecoded input until the next call\u001b[39;00m\n",
      "\u001b[0;31mUnicodeDecodeError\u001b[0m: 'utf-8' codec can't decode byte 0x80 in position 64: invalid start byte",
      "\nDuring handling of the above exception, another exception occurred:\n",
      "\u001b[0;31mOSError\u001b[0m                                   Traceback (most recent call last)",
      "\u001b[1;32m/Users/ukran1um/Projects/ChatGPT_OCR_Test/test.ipynb Cell 7\u001b[0m line \u001b[0;36m1\n\u001b[0;32m----> <a href='vscode-notebook-cell:/Users/ukran1um/Projects/ChatGPT_OCR_Test/test.ipynb#X10sZmlsZQ%3D%3D?line=0'>1</a>\u001b[0m model \u001b[39m=\u001b[39m SentenceTransformer(model_files)\n",
      "File \u001b[0;32m~/miniconda3/envs/ocr/lib/python3.8/site-packages/sentence_transformers/SentenceTransformer.py:97\u001b[0m, in \u001b[0;36mSentenceTransformer.__init__\u001b[0;34m(self, model_name_or_path, modules, device, cache_folder, use_auth_token)\u001b[0m\n\u001b[1;32m     95\u001b[0m         modules \u001b[39m=\u001b[39m \u001b[39mself\u001b[39m\u001b[39m.\u001b[39m_load_sbert_model(model_path)\n\u001b[1;32m     96\u001b[0m     \u001b[39melse\u001b[39;00m:   \u001b[39m#Load with AutoModel\u001b[39;00m\n\u001b[0;32m---> 97\u001b[0m         modules \u001b[39m=\u001b[39m \u001b[39mself\u001b[39;49m\u001b[39m.\u001b[39;49m_load_auto_model(model_path)\n\u001b[1;32m     99\u001b[0m \u001b[39mif\u001b[39;00m modules \u001b[39mis\u001b[39;00m \u001b[39mnot\u001b[39;00m \u001b[39mNone\u001b[39;00m \u001b[39mand\u001b[39;00m \u001b[39mnot\u001b[39;00m \u001b[39misinstance\u001b[39m(modules, OrderedDict):\n\u001b[1;32m    100\u001b[0m     modules \u001b[39m=\u001b[39m OrderedDict([(\u001b[39mstr\u001b[39m(idx), module) \u001b[39mfor\u001b[39;00m idx, module \u001b[39min\u001b[39;00m \u001b[39menumerate\u001b[39m(modules)])\n",
      "File \u001b[0;32m~/miniconda3/envs/ocr/lib/python3.8/site-packages/sentence_transformers/SentenceTransformer.py:806\u001b[0m, in \u001b[0;36mSentenceTransformer._load_auto_model\u001b[0;34m(self, model_name_or_path)\u001b[0m\n\u001b[1;32m    802\u001b[0m \u001b[39m\u001b[39m\u001b[39m\"\"\"\u001b[39;00m\n\u001b[1;32m    803\u001b[0m \u001b[39mCreates a simple Transformer + Mean Pooling model and returns the modules\u001b[39;00m\n\u001b[1;32m    804\u001b[0m \u001b[39m\"\"\"\u001b[39;00m\n\u001b[1;32m    805\u001b[0m logger\u001b[39m.\u001b[39mwarning(\u001b[39m\"\u001b[39m\u001b[39mNo sentence-transformers model found with name \u001b[39m\u001b[39m{}\u001b[39;00m\u001b[39m. Creating a new one with MEAN pooling.\u001b[39m\u001b[39m\"\u001b[39m\u001b[39m.\u001b[39mformat(model_name_or_path))\n\u001b[0;32m--> 806\u001b[0m transformer_model \u001b[39m=\u001b[39m Transformer(model_name_or_path)\n\u001b[1;32m    807\u001b[0m pooling_model \u001b[39m=\u001b[39m Pooling(transformer_model\u001b[39m.\u001b[39mget_word_embedding_dimension(), \u001b[39m'\u001b[39m\u001b[39mmean\u001b[39m\u001b[39m'\u001b[39m)\n\u001b[1;32m    808\u001b[0m \u001b[39mreturn\u001b[39;00m [transformer_model, pooling_model]\n",
      "File \u001b[0;32m~/miniconda3/envs/ocr/lib/python3.8/site-packages/sentence_transformers/models/Transformer.py:28\u001b[0m, in \u001b[0;36mTransformer.__init__\u001b[0;34m(self, model_name_or_path, max_seq_length, model_args, cache_dir, tokenizer_args, do_lower_case, tokenizer_name_or_path)\u001b[0m\n\u001b[1;32m     25\u001b[0m \u001b[39mself\u001b[39m\u001b[39m.\u001b[39mconfig_keys \u001b[39m=\u001b[39m [\u001b[39m'\u001b[39m\u001b[39mmax_seq_length\u001b[39m\u001b[39m'\u001b[39m, \u001b[39m'\u001b[39m\u001b[39mdo_lower_case\u001b[39m\u001b[39m'\u001b[39m]\n\u001b[1;32m     26\u001b[0m \u001b[39mself\u001b[39m\u001b[39m.\u001b[39mdo_lower_case \u001b[39m=\u001b[39m do_lower_case\n\u001b[0;32m---> 28\u001b[0m config \u001b[39m=\u001b[39m AutoConfig\u001b[39m.\u001b[39;49mfrom_pretrained(model_name_or_path, \u001b[39m*\u001b[39;49m\u001b[39m*\u001b[39;49mmodel_args, cache_dir\u001b[39m=\u001b[39;49mcache_dir)\n\u001b[1;32m     29\u001b[0m \u001b[39mself\u001b[39m\u001b[39m.\u001b[39m_load_model(model_name_or_path, config, cache_dir)\n\u001b[1;32m     31\u001b[0m \u001b[39mself\u001b[39m\u001b[39m.\u001b[39mtokenizer \u001b[39m=\u001b[39m AutoTokenizer\u001b[39m.\u001b[39mfrom_pretrained(tokenizer_name_or_path \u001b[39mif\u001b[39;00m tokenizer_name_or_path \u001b[39mis\u001b[39;00m \u001b[39mnot\u001b[39;00m \u001b[39mNone\u001b[39;00m \u001b[39melse\u001b[39;00m model_name_or_path, cache_dir\u001b[39m=\u001b[39mcache_dir, \u001b[39m*\u001b[39m\u001b[39m*\u001b[39mtokenizer_args)\n",
      "File \u001b[0;32m~/miniconda3/envs/ocr/lib/python3.8/site-packages/transformers/models/auto/configuration_auto.py:1048\u001b[0m, in \u001b[0;36mAutoConfig.from_pretrained\u001b[0;34m(cls, pretrained_model_name_or_path, **kwargs)\u001b[0m\n\u001b[1;32m   1045\u001b[0m trust_remote_code \u001b[39m=\u001b[39m kwargs\u001b[39m.\u001b[39mpop(\u001b[39m\"\u001b[39m\u001b[39mtrust_remote_code\u001b[39m\u001b[39m\"\u001b[39m, \u001b[39mNone\u001b[39;00m)\n\u001b[1;32m   1046\u001b[0m code_revision \u001b[39m=\u001b[39m kwargs\u001b[39m.\u001b[39mpop(\u001b[39m\"\u001b[39m\u001b[39mcode_revision\u001b[39m\u001b[39m\"\u001b[39m, \u001b[39mNone\u001b[39;00m)\n\u001b[0;32m-> 1048\u001b[0m config_dict, unused_kwargs \u001b[39m=\u001b[39m PretrainedConfig\u001b[39m.\u001b[39;49mget_config_dict(pretrained_model_name_or_path, \u001b[39m*\u001b[39;49m\u001b[39m*\u001b[39;49mkwargs)\n\u001b[1;32m   1049\u001b[0m has_remote_code \u001b[39m=\u001b[39m \u001b[39m\"\u001b[39m\u001b[39mauto_map\u001b[39m\u001b[39m\"\u001b[39m \u001b[39min\u001b[39;00m config_dict \u001b[39mand\u001b[39;00m \u001b[39m\"\u001b[39m\u001b[39mAutoConfig\u001b[39m\u001b[39m\"\u001b[39m \u001b[39min\u001b[39;00m config_dict[\u001b[39m\"\u001b[39m\u001b[39mauto_map\u001b[39m\u001b[39m\"\u001b[39m]\n\u001b[1;32m   1050\u001b[0m has_local_code \u001b[39m=\u001b[39m \u001b[39m\"\u001b[39m\u001b[39mmodel_type\u001b[39m\u001b[39m\"\u001b[39m \u001b[39min\u001b[39;00m config_dict \u001b[39mand\u001b[39;00m config_dict[\u001b[39m\"\u001b[39m\u001b[39mmodel_type\u001b[39m\u001b[39m\"\u001b[39m] \u001b[39min\u001b[39;00m CONFIG_MAPPING\n",
      "File \u001b[0;32m~/miniconda3/envs/ocr/lib/python3.8/site-packages/transformers/configuration_utils.py:622\u001b[0m, in \u001b[0;36mPretrainedConfig.get_config_dict\u001b[0;34m(cls, pretrained_model_name_or_path, **kwargs)\u001b[0m\n\u001b[1;32m    620\u001b[0m original_kwargs \u001b[39m=\u001b[39m copy\u001b[39m.\u001b[39mdeepcopy(kwargs)\n\u001b[1;32m    621\u001b[0m \u001b[39m# Get config dict associated with the base config file\u001b[39;00m\n\u001b[0;32m--> 622\u001b[0m config_dict, kwargs \u001b[39m=\u001b[39m \u001b[39mcls\u001b[39;49m\u001b[39m.\u001b[39;49m_get_config_dict(pretrained_model_name_or_path, \u001b[39m*\u001b[39;49m\u001b[39m*\u001b[39;49mkwargs)\n\u001b[1;32m    623\u001b[0m \u001b[39mif\u001b[39;00m \u001b[39m\"\u001b[39m\u001b[39m_commit_hash\u001b[39m\u001b[39m\"\u001b[39m \u001b[39min\u001b[39;00m config_dict:\n\u001b[1;32m    624\u001b[0m     original_kwargs[\u001b[39m\"\u001b[39m\u001b[39m_commit_hash\u001b[39m\u001b[39m\"\u001b[39m] \u001b[39m=\u001b[39m config_dict[\u001b[39m\"\u001b[39m\u001b[39m_commit_hash\u001b[39m\u001b[39m\"\u001b[39m]\n",
      "File \u001b[0;32m~/miniconda3/envs/ocr/lib/python3.8/site-packages/transformers/configuration_utils.py:710\u001b[0m, in \u001b[0;36mPretrainedConfig._get_config_dict\u001b[0;34m(cls, pretrained_model_name_or_path, **kwargs)\u001b[0m\n\u001b[1;32m    708\u001b[0m     config_dict[\u001b[39m\"\u001b[39m\u001b[39m_commit_hash\u001b[39m\u001b[39m\"\u001b[39m] \u001b[39m=\u001b[39m commit_hash\n\u001b[1;32m    709\u001b[0m \u001b[39mexcept\u001b[39;00m (json\u001b[39m.\u001b[39mJSONDecodeError, \u001b[39mUnicodeDecodeError\u001b[39;00m):\n\u001b[0;32m--> 710\u001b[0m     \u001b[39mraise\u001b[39;00m \u001b[39mEnvironmentError\u001b[39;00m(\n\u001b[1;32m    711\u001b[0m         \u001b[39mf\u001b[39m\u001b[39m\"\u001b[39m\u001b[39mIt looks like the config file at \u001b[39m\u001b[39m'\u001b[39m\u001b[39m{\u001b[39;00mresolved_config_file\u001b[39m}\u001b[39;00m\u001b[39m'\u001b[39m\u001b[39m is not a valid JSON file.\u001b[39m\u001b[39m\"\u001b[39m\n\u001b[1;32m    712\u001b[0m     )\n\u001b[1;32m    714\u001b[0m \u001b[39mif\u001b[39;00m is_local:\n\u001b[1;32m    715\u001b[0m     logger\u001b[39m.\u001b[39minfo(\u001b[39mf\u001b[39m\u001b[39m\"\u001b[39m\u001b[39mloading configuration file \u001b[39m\u001b[39m{\u001b[39;00mresolved_config_file\u001b[39m}\u001b[39;00m\u001b[39m\"\u001b[39m)\n",
      "\u001b[0;31mOSError\u001b[0m: It looks like the config file at '/Users/ukran1um/.cache/huggingface/hub/models--sentence-transformers--all-MiniLM-L6-v2/snapshots/7dbbc90392e2f80f3d3c277d6e90027e55de9125/pytorch_model.bin' is not a valid JSON file."
     ]
    }
   ],
   "source": [
    "model = SentenceTransformer(model_files)\n"
   ]
  },
  {
   "cell_type": "code",
   "execution_count": 33,
   "metadata": {},
   "outputs": [
    {
     "data": {
      "application/vnd.jupyter.widget-view+json": {
       "model_id": "11128a47f539411984186d38b3b218cb",
       "version_major": 2,
       "version_minor": 0
      },
      "text/plain": [
       "Fetching 16 files:   0%|          | 0/16 [00:00<?, ?it/s]"
      ]
     },
     "metadata": {},
     "output_type": "display_data"
    }
   ],
   "source": [
    "from sentence_transformers import SentenceTransformer\n",
    "from huggingface_hub import snapshot_download\n",
    "\n",
    "# Define the repository ID of the model you want to download\n",
    "REPO_ID = 'sentence-transformers/all-MiniLM-L6-v2'\n",
    "\n",
    "# Download the model files to a local folder\n",
    "local_folder = snapshot_download(REPO_ID)\n",
    "\n",
    "# Load the model from the local folder\n",
    "model = SentenceTransformer(local_folder)\n",
    "\n",
    "# Your texts to encode\n",
    "texts = [\"Example sentence 1\", \"Example sentence 2\"]\n",
    "\n",
    "# Generate embeddings\n",
    "embeddings = model.encode(texts)"
   ]
  },
  {
   "cell_type": "code",
   "execution_count": 34,
   "metadata": {},
   "outputs": [
    {
     "data": {
      "text/plain": [
       "(2, 384)"
      ]
     },
     "execution_count": 34,
     "metadata": {},
     "output_type": "execute_result"
    }
   ],
   "source": [
    "embeddings.shape"
   ]
  },
  {
   "cell_type": "code",
   "execution_count": 35,
   "metadata": {},
   "outputs": [
    {
     "data": {
      "text/plain": [
       "'/Users/ukran1um/.cache/huggingface/hub/models--sentence-transformers--all-MiniLM-L6-v2/snapshots/7dbbc90392e2f80f3d3c277d6e90027e55de9125'"
      ]
     },
     "execution_count": 35,
     "metadata": {},
     "output_type": "execute_result"
    }
   ],
   "source": [
    "local_folder"
   ]
  },
  {
   "cell_type": "code",
   "execution_count": 6,
   "metadata": {},
   "outputs": [],
   "source": [
    "from annlite import AnnLite"
   ]
  },
  {
   "cell_type": "code",
   "execution_count": 7,
   "metadata": {},
   "outputs": [],
   "source": [
    "from docarray import DocumentArray"
   ]
  },
  {
   "cell_type": "code",
   "execution_count": 8,
   "metadata": {},
   "outputs": [
    {
     "name": "stdout",
     "output_type": "stream",
     "text": [
      "\u001b[32m2023-12-06 19:22:25.671\u001b[0m | \u001b[1mINFO    \u001b[0m | \u001b[36mannlite.index\u001b[0m:\u001b[36mrestore\u001b[0m:\u001b[36m670\u001b[0m - \u001b[1mrestore Annlite from local\u001b[0m\n",
      "\u001b[32m2023-12-06 19:22:25.672\u001b[0m | \u001b[1mINFO    \u001b[0m | \u001b[36mannlite.index\u001b[0m:\u001b[36m_rebuild_index_from_local\u001b[0m:\u001b[36m771\u001b[0m - \u001b[1mLoad the indexer from snapshot data/snapshot-f253477d04619f5c4f416d3cf28ad1a2/2023-12-07#00:20:35-SNAPSHOT\u001b[0m\n",
      "\u001b[32m2023-12-06 19:22:25.953\u001b[0m | \u001b[1mINFO    \u001b[0m | \u001b[36mannlite.index\u001b[0m:\u001b[36m_rebuild_index_from_local\u001b[0m:\u001b[36m796\u001b[0m - \u001b[1mLoad the model from data/parameters-f253477d04619f5c4f416d3cf28ad1a2\u001b[0m\n"
     ]
    },
    {
     "name": "stderr",
     "output_type": "stream",
     "text": [
      "Warning: Calling load_index for an already inited index. Old index is being deallocated."
     ]
    }
   ],
   "source": [
    "new_ann = AnnLite(384, metric='cosine', data_path=\"./data/\")\n"
   ]
  },
  {
   "cell_type": "code",
   "execution_count": null,
   "metadata": {},
   "outputs": [],
   "source": [
    "docs = DocumentArray.empty(1000)"
   ]
  }
 ],
 "metadata": {
  "kernelspec": {
   "display_name": "ocr",
   "language": "python",
   "name": "python3"
  },
  "language_info": {
   "codemirror_mode": {
    "name": "ipython",
    "version": 3
   },
   "file_extension": ".py",
   "mimetype": "text/x-python",
   "name": "python",
   "nbconvert_exporter": "python",
   "pygments_lexer": "ipython3",
   "version": "3.8.18"
  }
 },
 "nbformat": 4,
 "nbformat_minor": 2
}
